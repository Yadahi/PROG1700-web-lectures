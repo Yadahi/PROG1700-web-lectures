{
 "cells": [
  {
   "cell_type": "code",
   "execution_count": 3,
   "id": "7f897f4e-2c8a-4b92-9937-9250e6e1c9e5",
   "metadata": {},
   "outputs": [
    {
     "name": "stdout",
     "output_type": "stream",
     "text": [
      "test\n"
     ]
    }
   ],
   "source": [
    "// comment\n",
    "/* fjksd\n",
    "* fjkds\n",
    "* dkjfsk\n",
    "* dfjdskjdfsk\n",
    "* dfjsk\n",
    "* jkdfs\n",
    "*/\n",
    "console.log('test')"
   ]
  },
  {
   "cell_type": "code",
   "execution_count": 4,
   "id": "262ab921-870b-45cf-9aaa-df3c3c43be7a",
   "metadata": {},
   "outputs": [],
   "source": [
    "let day = 19;\n",
    "let month = 'september';\n",
    "let year = 2025; "
   ]
  },
  {
   "cell_type": "code",
   "execution_count": 8,
   "id": "6e67e9e5-7ae2-447b-ba5d-fb9db9633d3d",
   "metadata": {},
   "outputs": [
    {
     "name": "stdout",
     "output_type": "stream",
     "text": [
      "19 september 2025\n"
     ]
    }
   ],
   "source": [
    "console.log(`${day} ${month} ${year}`);"
   ]
  },
  {
   "cell_type": "code",
   "execution_count": 11,
   "id": "8d873ba7-727e-47e1-9c1e-0ff43501e66c",
   "metadata": {},
   "outputs": [
    {
     "name": "stdin",
     "output_type": "stream",
     "text": [
      "give me first name jojo\n",
      "give me last name lalal\n"
     ]
    },
    {
     "name": "stdout",
     "output_type": "stream",
     "text": [
      "jojo.lalal@nscc.ca\n"
     ]
    }
   ],
   "source": [
    "let userName = prompt(\"give me first name\");\n",
    "let userSurname = prompt(\"give me last name\");\n",
    "\n",
    "console.log(`${userName}.${userSurname}@nscc.ca`)\n"
   ]
  },
  {
   "cell_type": "code",
   "execution_count": 3,
   "id": "b118ef2e-bffb-493e-ada3-cd98846025fe",
   "metadata": {},
   "outputs": [
    {
     "data": {
      "text/plain": [
       "\u001b[32m\"concatenate strings\"\u001b[39m"
      ]
     },
     "execution_count": 3,
     "metadata": {},
     "output_type": "execute_result"
    }
   ],
   "source": [
    "let text = \"Hello World!\";\n",
    "//uuu no need to call console log nor save the value in a variable\n",
    "\"concatenate \" + \"strings\";"
   ]
  },
  {
   "cell_type": "code",
   "execution_count": 4,
   "id": "d2e02af1-60b9-4ed8-befa-d576527f82f4",
   "metadata": {},
   "outputs": [
    {
     "data": {
      "text/plain": [
       "\u001b[32m\"Hello World\"\u001b[39m"
      ]
     },
     "execution_count": 4,
     "metadata": {},
     "output_type": "execute_result"
    }
   ],
   "source": [
    "text = \"Hello \" + \"World\";"
   ]
  },
  {
   "cell_type": "code",
   "execution_count": 6,
   "id": "af1eb146-9c66-4b30-92f4-378fe5187cfa",
   "metadata": {},
   "outputs": [
    {
     "data": {
      "text/plain": [
       "\u001b[32m\"Hello World\"\u001b[39m"
      ]
     },
     "execution_count": 6,
     "metadata": {},
     "output_type": "execute_result"
    }
   ],
   "source": [
    "let string1 = \"Hello \";\n",
    "let string2 = \"World\";\n",
    "text = string1 + string2;\n"
   ]
  },
  {
   "cell_type": "code",
   "execution_count": 7,
   "id": "ae1d3fb3-315f-432c-a6aa-e48d5e9b22af",
   "metadata": {},
   "outputs": [],
   "source": [
    "//concatenate strings and numbers\n",
    "let address = 5685 + \" Leeds St\";"
   ]
  },
  {
   "cell_type": "code",
   "execution_count": 8,
   "id": "140f7269-ec73-40a9-be74-c2699ebe98a9",
   "metadata": {},
   "outputs": [
    {
     "name": "stdout",
     "output_type": "stream",
     "text": [
      "5685 Leeds St\n",
      "string\n"
     ]
    }
   ],
   "source": [
    "console.log(address);\n",
    "console.log(typeof address);"
   ]
  },
  {
   "cell_type": "code",
   "execution_count": 9,
   "id": "257d7d24-4532-4f47-9cdf-b64426477153",
   "metadata": {},
   "outputs": [],
   "source": [
    "let price = \"Price \" + 123.45"
   ]
  },
  {
   "cell_type": "code",
   "execution_count": 10,
   "id": "9c28328e-0f05-4ffc-9b4e-45f7dc8a0993",
   "metadata": {},
   "outputs": [
    {
     "name": "stdout",
     "output_type": "stream",
     "text": [
      "Price 123.45\n"
     ]
    }
   ],
   "source": [
    "console.log(price);"
   ]
  },
  {
   "cell_type": "code",
   "execution_count": 11,
   "id": "d5ceed16-fa3a-4eb8-a396-686797e37365",
   "metadata": {},
   "outputs": [
    {
     "name": "stdout",
     "output_type": "stream",
     "text": [
      "string\n"
     ]
    }
   ],
   "source": [
    "console.log(typeof price);\n"
   ]
  },
  {
   "cell_type": "code",
   "execution_count": 16,
   "id": "3e192441-768a-4f54-b670-9b96e34fe7b5",
   "metadata": {},
   "outputs": [],
   "source": [
    "let answer = \"Sum = \" + 1 + 2;"
   ]
  },
  {
   "cell_type": "code",
   "execution_count": 18,
   "id": "fec9a466-f9e1-4ae5-8fff-7234b00ca856",
   "metadata": {},
   "outputs": [
    {
     "name": "stdout",
     "output_type": "stream",
     "text": [
      "Sum = 12\n"
     ]
    }
   ],
   "source": [
    "console.log(answer);"
   ]
  },
  {
   "cell_type": "code",
   "execution_count": 14,
   "id": "fa7beff9-a0ad-4eb6-91f4-876473f91f8e",
   "metadata": {},
   "outputs": [
    {
     "data": {
      "text/plain": [
       "\u001b[32m\"Sum = 3\"\u001b[39m"
      ]
     },
     "execution_count": 14,
     "metadata": {},
     "output_type": "execute_result"
    }
   ],
   "source": [
    "answer = \"Sum = \" + (1 + 2);"
   ]
  },
  {
   "cell_type": "code",
   "execution_count": 19,
   "id": "54b2d5e0-1c20-4b78-bcae-e4d88fd570cc",
   "metadata": {},
   "outputs": [],
   "source": [
    "// variable expansion / template literal"
   ]
  },
  {
   "cell_type": "code",
   "execution_count": 21,
   "id": "8b204997-801b-4171-a26e-e6ad5a1f9566",
   "metadata": {},
   "outputs": [],
   "source": [
    "let cost = 1.23;\n",
    "let text = 'Cost =';\n",
    "let statement = `Total ${text} `"
   ]
  },
  {
   "cell_type": "code",
   "execution_count": 28,
   "id": "5361e030-4ffc-4e3c-ab29-0841cb53f398",
   "metadata": {},
   "outputs": [
    {
     "data": {
      "text/plain": [
       "\u001b[32m\"<h1>Sum = 2</h1>\"\u001b[39m"
      ]
     },
     "execution_count": 28,
     "metadata": {},
     "output_type": "execute_result"
    }
   ],
   "source": [
    "// expression expansion\n",
    "`<h1>Sum = ${1 + 1}</h1>`;\n"
   ]
  },
  {
   "cell_type": "code",
   "execution_count": 32,
   "id": "6c54a217-d39b-4c0c-bcf2-8a957b2db8db",
   "metadata": {},
   "outputs": [
    {
     "name": "stdout",
     "output_type": "stream",
     "text": [
      "dog\n"
     ]
    },
    {
     "data": {
      "text/plain": [
       "\u001b[32m\"amb\"\u001b[39m"
      ]
     },
     "execution_count": 32,
     "metadata": {},
     "output_type": "execute_result"
    }
   ],
   "source": [
    "// substring\n",
    "let dog = \"cat dog mouse\".substring(4, 7);\n",
    "console.log(dog);\n",
    "let text = \"Mary da a little lamb\";\n",
    "text.substring(18, 22);"
   ]
  },
  {
   "cell_type": "code",
   "execution_count": 33,
   "id": "5a5ad46f-e9d6-430a-80c9-8f171b9856a6",
   "metadata": {},
   "outputs": [
    {
     "data": {
      "text/plain": [
       "\u001b[32m\"------------------------------\"\u001b[39m"
      ]
     },
     "execution_count": 33,
     "metadata": {},
     "output_type": "execute_result"
    }
   ],
   "source": [
    "// repeat operator\n",
    "\"-\".repeat(30);\n"
   ]
  },
  {
   "cell_type": "code",
   "execution_count": 36,
   "id": "9b63f434-c803-4a7d-80a2-d4aa565b333e",
   "metadata": {},
   "outputs": [],
   "source": [
    "// string\n",
    "// string of letter, numbers and other characters\n",
    "// surrounded by double quotation marks\n",
    "\n",
    "// number (integer)\n",
    "// a whole number\n",
    "// 123, 456\n",
    "\n",
    "// number (decimal, float, double)\n",
    "// a decimal number\n",
    "// 123.456\n",
    "\n",
    "// boolean\n",
    "// contains one of two values: \n",
    "// yes or no, 1 or 0\n"
   ]
  },
  {
   "cell_type": "code",
   "execution_count": 38,
   "id": "2b9d82d1-e5a8-402d-ab6d-cf48bc5e1137",
   "metadata": {},
   "outputs": [
    {
     "data": {
      "text/plain": [
       "\u001b[32m\"number\"\u001b[39m"
      ]
     },
     "execution_count": 38,
     "metadata": {},
     "output_type": "execute_result"
    }
   ],
   "source": [
    "typeof \"hello world\";\n",
    "typeof 123.456;\n"
   ]
  },
  {
   "cell_type": "code",
   "execution_count": 41,
   "id": "bdb409df-67a5-48ec-bda4-ccdfc911db2e",
   "metadata": {},
   "outputs": [
    {
     "name": "stdout",
     "output_type": "stream",
     "text": [
      "number\n"
     ]
    }
   ],
   "source": [
    "Number('123');\n",
    "console.log(typeof Number('123'))"
   ]
  },
  {
   "cell_type": "code",
   "execution_count": 42,
   "id": "2beade53-0026-43ab-b33d-6e925c838a3f",
   "metadata": {},
   "outputs": [
    {
     "data": {
      "text/plain": [
       "\u001b[33mtrue\u001b[39m"
      ]
     },
     "execution_count": 42,
     "metadata": {},
     "output_type": "execute_result"
    }
   ],
   "source": [
    "Boolean(123);"
   ]
  },
  {
   "cell_type": "code",
   "execution_count": 48,
   "id": "c75bd4a2-a471-4747-9e9e-4be9bc9f5d9c",
   "metadata": {},
   "outputs": [
    {
     "name": "stdin",
     "output_type": "stream",
     "text": [
      "Enter a number:  aaa\n"
     ]
    },
    {
     "name": "stdout",
     "output_type": "stream",
     "text": [
      "\u001b[33mNaN\u001b[39m\n"
     ]
    }
   ],
   "source": [
    "// getting input from the user of a particular data type\n",
    "let userInput = Number(prompt(\"Enter a number: \"));\n",
    "\n",
    "console.log(userInput);"
   ]
  },
  {
   "cell_type": "code",
   "execution_count": 50,
   "id": "6040438f-9a03-495e-92a0-d641c4687960",
   "metadata": {},
   "outputs": [
    {
     "name": "stdin",
     "output_type": "stream",
     "text": [
      "Enter a number:  asdf\n"
     ]
    },
    {
     "name": "stdout",
     "output_type": "stream",
     "text": [
      "\u001b[33m0\u001b[39m\n"
     ]
    }
   ],
   "source": [
    "let userNumber = parseInt(prompt(\"Enter a number: \")) || 0;\n",
    "console.log(userNumber);"
   ]
  },
  {
   "cell_type": "code",
   "execution_count": 52,
   "id": "d4bd2dd2-90ec-4341-96ed-d8cac911b74f",
   "metadata": {},
   "outputs": [
    {
     "data": {
      "text/plain": [
       "\u001b[33m1.3333333333333333\u001b[39m"
      ]
     },
     "execution_count": 52,
     "metadata": {},
     "output_type": "execute_result"
    }
   ],
   "source": [
    "// math\n",
    "// 1 + 2;\n",
    "// 2 - 1;\n",
    "\n",
    "4 / 3"
   ]
  },
  {
   "cell_type": "code",
   "execution_count": 53,
   "id": "d800745a-1644-46de-b616-9cc2e6790fc8",
   "metadata": {},
   "outputs": [
    {
     "data": {
      "text/plain": [
       "\u001b[33m1\u001b[39m"
      ]
     },
     "execution_count": 53,
     "metadata": {},
     "output_type": "execute_result"
    }
   ],
   "source": [
    "4 % 3\n"
   ]
  },
  {
   "cell_type": "code",
   "execution_count": 54,
   "id": "99891f67-0882-4e1a-b57d-76b124e26747",
   "metadata": {},
   "outputs": [],
   "source": [
    "// BEDMAS (order of operations)\n",
    "// brackets\n",
    "// exponents\n",
    "// D / M division and multiplication\n",
    "// A / S addition and substraction\n"
   ]
  },
  {
   "cell_type": "code",
   "execution_count": 60,
   "id": "1e469e8a-0bde-4672-8e01-812afd5a3f27",
   "metadata": {},
   "outputs": [
    {
     "data": {
      "text/plain": [
       "\u001b[33m4\u001b[39m"
      ]
     },
     "execution_count": 60,
     "metadata": {},
     "output_type": "execute_result"
    }
   ],
   "source": [
    "// math function\n",
    "Math.pow(2, 3);\n",
    "Math.sqrt(25);\n",
    "Math.PI;\n",
    "Math.floor(3.45);\n",
    "Math.ceil(3.45);\n",
    "Math.round(3.67);\n"
   ]
  },
  {
   "cell_type": "code",
   "execution_count": null,
   "id": "fdce72b3-58d5-4a81-b818-11a31dc59226",
   "metadata": {},
   "outputs": [],
   "source": []
  }
 ],
 "metadata": {
  "kernelspec": {
   "display_name": "Deno",
   "language": "typescript",
   "name": "deno"
  },
  "language_info": {
   "codemirror_mode": "typescript",
   "file_extension": ".ts",
   "mimetype": "text/x.typescript",
   "name": "typescript",
   "nbconvert_exporter": "script",
   "pygments_lexer": "typescript",
   "version": "5.8.3"
  }
 },
 "nbformat": 4,
 "nbformat_minor": 5
}
