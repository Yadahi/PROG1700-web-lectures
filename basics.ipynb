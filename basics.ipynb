{
 "cells": [
  {
   "cell_type": "code",
   "execution_count": 3,
   "id": "7f897f4e-2c8a-4b92-9937-9250e6e1c9e5",
   "metadata": {},
   "outputs": [
    {
     "name": "stdout",
     "output_type": "stream",
     "text": [
      "test\n"
     ]
    }
   ],
   "source": [
    "// comment\n",
    "/* fjksd\n",
    "* fjkds\n",
    "* dkjfsk\n",
    "* dfjdskjdfsk\n",
    "* dfjsk\n",
    "* jkdfs\n",
    "*/\n",
    "console.log('test')"
   ]
  },
  {
   "cell_type": "code",
   "execution_count": 4,
   "id": "262ab921-870b-45cf-9aaa-df3c3c43be7a",
   "metadata": {},
   "outputs": [],
   "source": [
    "let day = 19;\n",
    "let month = 'september';\n",
    "let year = 2025; "
   ]
  },
  {
   "cell_type": "code",
   "execution_count": 8,
   "id": "6e67e9e5-7ae2-447b-ba5d-fb9db9633d3d",
   "metadata": {},
   "outputs": [
    {
     "name": "stdout",
     "output_type": "stream",
     "text": [
      "19 september 2025\n"
     ]
    }
   ],
   "source": [
    "console.log(`${day} ${month} ${year}`);"
   ]
  },
  {
   "cell_type": "code",
   "execution_count": 11,
   "id": "8d873ba7-727e-47e1-9c1e-0ff43501e66c",
   "metadata": {},
   "outputs": [
    {
     "name": "stdin",
     "output_type": "stream",
     "text": [
      "give me first name jojo\n",
      "give me last name lalal\n"
     ]
    },
    {
     "name": "stdout",
     "output_type": "stream",
     "text": [
      "jojo.lalal@nscc.ca\n"
     ]
    }
   ],
   "source": [
    "let userName = prompt(\"give me first name\");\n",
    "let userSurname = prompt(\"give me last name\");\n",
    "\n",
    "console.log(`${userName}.${userSurname}@nscc.ca`)\n"
   ]
  },
  {
   "cell_type": "code",
   "execution_count": null,
   "id": "b118ef2e-bffb-493e-ada3-cd98846025fe",
   "metadata": {},
   "outputs": [],
   "source": []
  }
 ],
 "metadata": {
  "kernelspec": {
   "display_name": "Deno",
   "language": "typescript",
   "name": "deno"
  },
  "language_info": {
   "codemirror_mode": "typescript",
   "file_extension": ".ts",
   "mimetype": "text/x.typescript",
   "name": "typescript",
   "nbconvert_exporter": "script",
   "pygments_lexer": "typescript",
   "version": "5.8.3"
  }
 },
 "nbformat": 4,
 "nbformat_minor": 5
}
