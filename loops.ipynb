{
 "cells": [
  {
   "cell_type": "code",
   "execution_count": 1,
   "id": "064ea72e-3e6b-4107-91ac-191cd83ccddb",
   "metadata": {},
   "outputs": [],
   "source": [
    "// while loop\n",
    "// while the condition is true it will continue to perform the action\n",
    "// exit the loop when the condition becomes false\n"
   ]
  },
  {
   "cell_type": "code",
   "execution_count": 2,
   "id": "9f539b57-9c3e-444a-982e-1f4c32355746",
   "metadata": {},
   "outputs": [],
   "source": [
    "// infinite loops - a loop that never exits because the condition never changes"
   ]
  },
  {
   "cell_type": "code",
   "execution_count": 3,
   "id": "17998341-3b4c-4f9d-ab26-2af0102edb5b",
   "metadata": {},
   "outputs": [
    {
     "name": "stdout",
     "output_type": "stream",
     "text": [
      "num = 0\n",
      "num = 1\n",
      "num = 2\n",
      "num = 3\n",
      "num = 4\n",
      "num = 5\n",
      "num = 6\n",
      "num = 7\n",
      "num = 8\n",
      "num = 9\n"
     ]
    },
    {
     "data": {
      "text/plain": [
       "\u001b[33m10\u001b[39m"
      ]
     },
     "execution_count": 3,
     "metadata": {},
     "output_type": "execute_result"
    }
   ],
   "source": [
    "let num = 0;\n",
    "while (num < 10) {\n",
    "    console.log(`num = ${num}`);\n",
    "    num += 1;\n",
    "}"
   ]
  },
  {
   "cell_type": "code",
   "execution_count": 4,
   "id": "26d9495a-62af-44c5-af64-3856c8f2cc79",
   "metadata": {},
   "outputs": [],
   "source": [
    "let num = 10;\n",
    "while (num < 0) {\n",
    "    console.log(`num = ${num}`);\n",
    "    num -= 2;\n",
    "}"
   ]
  },
  {
   "cell_type": "code",
   "execution_count": 5,
   "id": "6812ad6c-0e3a-410e-9034-3b8e3b7d8b05",
   "metadata": {},
   "outputs": [],
   "source": [
    "// i = i + 1;\n",
    "// i += 1;\n",
    "// i++;\n",
    "// 3 rules - does it work, can i read it, is it efficient"
   ]
  },
  {
   "cell_type": "code",
   "execution_count": 10,
   "id": "ed946cbf-e0eb-48d9-bc47-1cbecdadff66",
   "metadata": {
    "scrolled": true
   },
   "outputs": [
    {
     "name": "stdin",
     "output_type": "stream",
     "text": [
      "Enter a number:  0\n"
     ]
    },
    {
     "name": "stdout",
     "output_type": "stream",
     "text": [
      "userInput = 0\n",
      "Your age is 0\n"
     ]
    }
   ],
   "source": [
    "// keep asking user to enter valid data\n",
    "let userInput = -1;\n",
    "while (userInput <= 0 || isNaN(userInput)) {\n",
    "    let rawInput = prompt(\"Enter a number: \");\n",
    "    userInput = parseInt(rawInput);\n",
    "    console.log(`userInput = ${userInput}`)\n",
    "}\n",
    "console.log(`Your age is ${userInput}`);"
   ]
  },
  {
   "cell_type": "code",
   "execution_count": null,
   "id": "8a0cbc30-82d0-42dd-a204-d0a95fa9a5df",
   "metadata": {},
   "outputs": [],
   "source": [
    "// do while loop\n",
    "// do {actions} while (condition); "
   ]
  },
  {
   "cell_type": "code",
   "execution_count": null,
   "id": "f658c6a8-5d45-40fb-b7fd-f5a48ffb5fba",
   "metadata": {},
   "outputs": [],
   "source": [
    "// i frist get the value from user and then check if\n",
    "do {\n",
    "    let rawInput = prompt(\"Enter a number: \");\n",
    "    let userInput = parseInt(rawInput);\n",
    "} while (userInput <= 0 || isNaN(userInput))\n",
    "console.log(`Your age is ${userInput}`);"
   ]
  },
  {
   "cell_type": "code",
   "execution_count": null,
   "id": "891b8f1c-99ed-4aa8-b136-df5ee6aafabb",
   "metadata": {},
   "outputs": [],
   "source": [
    "// for loop"
   ]
  }
 ],
 "metadata": {
  "kernelspec": {
   "display_name": "Deno",
   "language": "typescript",
   "name": "deno"
  },
  "language_info": {
   "codemirror_mode": "typescript",
   "file_extension": ".ts",
   "mimetype": "text/x.typescript",
   "name": "typescript",
   "nbconvert_exporter": "script",
   "pygments_lexer": "typescript",
   "version": "5.8.3"
  }
 },
 "nbformat": 4,
 "nbformat_minor": 5
}
