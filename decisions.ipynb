{
 "cells": [
  {
   "cell_type": "code",
   "execution_count": 1,
   "id": "50bed42c-6538-4375-b214-febb40edd571",
   "metadata": {},
   "outputs": [],
   "source": [
    "// boolean values\n",
    "// true or false"
   ]
  },
  {
   "cell_type": "code",
   "execution_count": 2,
   "id": "8a310109-8815-4a17-8129-21a483608564",
   "metadata": {},
   "outputs": [],
   "source": [
    "let isSunny = true;\n",
    "let isRaining = false;\n",
    "let isSunny2: boolean = true;\n",
    "let isRaining2: boolean = false;"
   ]
  },
  {
   "cell_type": "code",
   "execution_count": 14,
   "id": "f92556ae-dcbd-430f-8d1d-28da6f886f7d",
   "metadata": {},
   "outputs": [],
   "source": [
    "// not a boolean value\n",
    "let notABoolean = \"true\";\n",
    "let alsoNotABoolean = 1;"
   ]
  },
  {
   "cell_type": "code",
   "execution_count": 16,
   "id": "4349fcd7-8382-43b8-bfd7-07739a51fe86",
   "metadata": {},
   "outputs": [
    {
     "name": "stdout",
     "output_type": "stream",
     "text": [
      "list of values that convert to false\n"
     ]
    }
   ],
   "source": [
    "/*\n",
    "Here’s the complete list of values that convert to false:\n",
    "false\n",
    "\n",
    "0 and -0\n",
    "\n",
    "0n (BigInt zero)\n",
    "\n",
    "\"\" (empty string)\n",
    "\n",
    "null\n",
    "\n",
    "undefined\n",
    "\n",
    "NaN\n",
    "*/\n",
    "console.log('list of values that convert to false');"
   ]
  },
  {
   "cell_type": "code",
   "execution_count": 5,
   "id": "f2bc00a4-c43e-4e1e-9309-5144164cabab",
   "metadata": {},
   "outputs": [
    {
     "name": "stdout",
     "output_type": "stream",
     "text": [
      "\u001b[33mfalse\u001b[39m\n"
     ]
    }
   ],
   "source": [
    "// can make a boolean from other values\n",
    "let aBoolean = !!\"hello\";\n",
    "aBoolean = !!\"\";\n",
    "console.log(aBoolean);"
   ]
  },
  {
   "cell_type": "code",
   "execution_count": 17,
   "id": "9b91352c-af1a-4f4f-8fee-d9708ef2ee8d",
   "metadata": {},
   "outputs": [
    {
     "data": {
      "text/plain": [
       "\u001b[33mfalse\u001b[39m"
      ]
     },
     "execution_count": 17,
     "metadata": {},
     "output_type": "execute_result"
    }
   ],
   "source": [
    "// comparisons\n",
    "1 < 2 // less than \n",
    "1 > 2 // greater than\n",
    "let a = 1;\n",
    "let b = 2;\n",
    "a >= b; // greater than or equals\n",
    "a <= b; // less than or equals\n",
    "a === b; // equals"
   ]
  },
  {
   "cell_type": "code",
   "execution_count": 22,
   "id": "2f4ec18b-69cc-42f5-855a-77c98c9bf284",
   "metadata": {},
   "outputs": [
    {
     "data": {
      "text/plain": [
       "\u001b[33mtrue\u001b[39m"
      ]
     },
     "execution_count": 22,
     "metadata": {},
     "output_type": "execute_result"
    }
   ],
   "source": [
    "// compare strings\n",
    "'abc' === '123';\n",
    "'abc' === 'abc';\n",
    "// Since \"a\" (Unicode 97) comes before \"b\" (Unicode 98), \"apple\" is considered smaller than \"banana\".\n",
    "\"apple\" < \"banana\";\n",
    "// In lexicographic comparison, a shorter string that matches the beginning of a longer string is considered smaller.\n",
    "// \"apple\" < \"applesauce\";"
   ]
  },
  {
   "cell_type": "code",
   "execution_count": 24,
   "id": "33bf4772-5f4d-405f-9891-a41c7caf1f30",
   "metadata": {},
   "outputs": [
    {
     "data": {
      "text/plain": [
       "\u001b[33mtrue\u001b[39m"
      ]
     },
     "execution_count": 24,
     "metadata": {},
     "output_type": "execute_result"
    }
   ],
   "source": [
    "// case-sensitive comparisons\n",
    "// \"apple\" is not the same sequence of characters as \"APPLE\" (\"a\" ≠ \"A\", because \"a\" has Unicode 97 and \"A\" has Unicode 65).\n",
    "\"apple\" === \"APPLE\";\n",
    "\"apple\".toUpperCase() === \"APPLE\";"
   ]
  },
  {
   "cell_type": "code",
   "execution_count": 26,
   "id": "1d48671e-b20f-4cea-8868-abe4dfbfde9b",
   "metadata": {},
   "outputs": [
    {
     "data": {
      "text/plain": [
       "\u001b[33mtrue\u001b[39m"
      ]
     },
     "execution_count": 26,
     "metadata": {},
     "output_type": "execute_result"
    }
   ],
   "source": [
    "// comparing different data types\n",
    "// In JavaScript, there’s only one number type (Number) that represents both integers and floating-point numbers (IEEE-754 double precision).\n",
    "// So 12 and 12.0 are stored internally as the same numeric value.\n",
    "12 === 12.0"
   ]
  },
  {
   "cell_type": "code",
   "execution_count": 32,
   "id": "5be5c3f6-f848-4fa6-82e4-4f9c51ad4688",
   "metadata": {},
   "outputs": [
    {
     "name": "stdout",
     "output_type": "stream",
     "text": [
      "\u001b[33mtrue\u001b[39m\n",
      "\u001b[33mtrue\u001b[39m\n",
      "\u001b[33mtrue\u001b[39m\n",
      "\u001b[33mfalse\u001b[39m\n"
     ]
    }
   ],
   "source": [
    "console.log(true === !false);\n",
    "console.log(0 == false);\n",
    "console.log(1 == true);\n",
    "console.log(1 === true);"
   ]
  },
  {
   "cell_type": "code",
   "execution_count": 34,
   "id": "7f82fc89-468f-4023-b3ca-f9c163cfbf4b",
   "metadata": {},
   "outputs": [
    {
     "name": "stdout",
     "output_type": "stream",
     "text": [
      "\u001b[33m1\u001b[39m\n",
      "\u001b[33m0\u001b[39m\n"
     ]
    }
   ],
   "source": [
    "// things as booleans\n",
    "console.log(Number(true));\n",
    "console.log(Number(false));"
   ]
  },
  {
   "cell_type": "code",
   "execution_count": 37,
   "id": "da780348-67fb-4d53-a878-acf1db6617fa",
   "metadata": {},
   "outputs": [
    {
     "name": "stdout",
     "output_type": "stream",
     "text": [
      "\u001b[33mtrue\u001b[39m\n",
      "\u001b[33mfalse\u001b[39m\n"
     ]
    }
   ],
   "source": [
    "console.log(Boolean('abc') === true);\n",
    "console.log('abc' === true);"
   ]
  },
  {
   "cell_type": "code",
   "execution_count": 39,
   "id": "59ff904c-c29f-40ab-89f1-098a560aa12d",
   "metadata": {},
   "outputs": [
    {
     "name": "stdout",
     "output_type": "stream",
     "text": [
      "\u001b[33m1.4142135623730951\u001b[39m\n",
      "\u001b[33mfalse\u001b[39m\n"
     ]
    }
   ],
   "source": [
    "// float comparisons\n",
    "let answer = 1.4141414141 //... actual value\n",
    "console.log(Math.sqrt(2));\n",
    "console.log(answer === Math.sqrt(2)); // don't use equals to compare decimals"
   ]
  },
  {
   "cell_type": "code",
   "execution_count": 41,
   "id": "d60a2ba5-41d9-40a8-ad9d-1ff09791dc31",
   "metadata": {},
   "outputs": [
    {
     "name": "stdout",
     "output_type": "stream",
     "text": [
      "\u001b[33mfalse\u001b[39m\n"
     ]
    }
   ],
   "source": [
    "let a = 0.1;\n",
    "let b = 0.2;\n",
    "/*\n",
    "JavaScript numbers are stored in 64-bit floating point (IEEE-754) format.\n",
    "Many decimal fractions (like 0.1 or 0.2) cannot be represented exactly in binary.\n",
    "\n",
    "So internally:\n",
    "0.1 is actually 0.10000000000000000555...\n",
    "0.2 is actually 0.2000000000000000111...\n",
    "Adding them gives something like:\n",
    "0.30000000000000004\n",
    "\n",
    "*/\n",
    "console.log((a + b) === 0.3);"
   ]
  },
  {
   "cell_type": "code",
   "execution_count": 42,
   "id": "78ab7a39-d7c8-427f-aa78-87720ffb56e0",
   "metadata": {},
   "outputs": [
    {
     "name": "stdout",
     "output_type": "stream",
     "text": [
      "\u001b[33mtrue\u001b[39m\n"
     ]
    }
   ],
   "source": [
    "// compare variables\n",
    "let number1 = 0;\n",
    "let number2 = 1;\n",
    "console.log(number1 < number2);"
   ]
  },
  {
   "cell_type": "code",
   "execution_count": 43,
   "id": "016f044d-5bce-41a8-8408-adcee6b6d477",
   "metadata": {},
   "outputs": [],
   "source": [
    "// ASCII = American Standard Code for Information Interchange"
   ]
  },
  {
   "cell_type": "code",
   "execution_count": 46,
   "id": "0f54f51a-3b2a-4a99-a176-f6ae83296cbc",
   "metadata": {},
   "outputs": [
    {
     "data": {
      "text/plain": [
       "\u001b[33mtrue\u001b[39m"
      ]
     },
     "execution_count": 46,
     "metadata": {},
     "output_type": "execute_result"
    }
   ],
   "source": [
    "\"A\" < \"z\";"
   ]
  },
  {
   "cell_type": "code",
   "execution_count": 45,
   "id": "472b03f2-116b-4bda-8745-60bead63248e",
   "metadata": {},
   "outputs": [
    {
     "data": {
      "text/plain": [
       "\u001b[33mfalse\u001b[39m"
      ]
     },
     "execution_count": 45,
     "metadata": {},
     "output_type": "execute_result"
    }
   ],
   "source": [
    "\"a\" < \"Z\";"
   ]
  },
  {
   "cell_type": "code",
   "execution_count": 51,
   "id": "958c017d-6c10-4d01-9849-333494ffdc2f",
   "metadata": {},
   "outputs": [
    {
     "name": "stdout",
     "output_type": "stream",
     "text": [
      "> 5\n"
     ]
    }
   ],
   "source": [
    "let num = 15;\n",
    "if (num < 10) {\n",
    "    console.log('your number is less than 10');\n",
    "} else if (num > 5) {\n",
    "    console.log('> 5')\n",
    "} else if ('num > 4') {\n",
    "    console.log('num > 4')   \n",
    "}\n",
    "else {\n",
    "    console.log('your number is greater than 10');\n",
    "};\n"
   ]
  },
  {
   "cell_type": "code",
   "execution_count": null,
   "id": "abda1a5a-abaa-4760-bc91-59aa9cce96a0",
   "metadata": {},
   "outputs": [],
   "source": []
  }
 ],
 "metadata": {
  "kernelspec": {
   "display_name": "Deno",
   "language": "typescript",
   "name": "deno"
  },
  "language_info": {
   "codemirror_mode": "typescript",
   "file_extension": ".ts",
   "mimetype": "text/x.typescript",
   "name": "typescript",
   "nbconvert_exporter": "script",
   "pygments_lexer": "typescript",
   "version": "5.8.3"
  }
 },
 "nbformat": 4,
 "nbformat_minor": 5
}
